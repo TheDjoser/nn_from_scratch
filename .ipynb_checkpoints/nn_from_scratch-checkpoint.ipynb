{
 "cells": [
  {
   "cell_type": "markdown",
   "id": "91594c3f-e24b-4966-bec2-4ec0250fa048",
   "metadata": {},
   "source": [
    "# Creating a Neural Network from Scratch in Python\n",
    "In this notebook, I will implement a simple neural network from scratch using Python's standard libraries and NumPy\n"
   ]
  },
  {
   "cell_type": "code",
   "execution_count": null,
   "id": "d856589c-2381-4201-a8ac-89679b528949",
   "metadata": {},
   "outputs": [],
   "source": []
  }
 ],
 "metadata": {
  "kernelspec": {
   "display_name": "Python 3 (ipykernel)",
   "language": "python",
   "name": "python3"
  },
  "language_info": {
   "codemirror_mode": {
    "name": "ipython",
    "version": 3
   },
   "file_extension": ".py",
   "mimetype": "text/x-python",
   "name": "python",
   "nbconvert_exporter": "python",
   "pygments_lexer": "ipython3",
   "version": "3.8.2"
  }
 },
 "nbformat": 4,
 "nbformat_minor": 5
}
